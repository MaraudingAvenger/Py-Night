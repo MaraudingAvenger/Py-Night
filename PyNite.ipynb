{
 "cells": [
  {
   "cell_type": "markdown",
   "metadata": {},
   "source": [
    "## Python Examples!\n",
    "\n",
    "Follow along as we go one by one through these examples. **Run a cell by pressing `Ctrl + Enter` or `Shift + Enter`**"
   ]
  },
  {
   "cell_type": "code",
   "execution_count": null,
   "metadata": {},
   "outputs": [],
   "source": [
    "print(\"Welcome to Py Nite!\")"
   ]
  },
  {
   "cell_type": "markdown",
   "metadata": {},
   "source": [
    "### A giant calculator?!\n",
    "\n",
    "Do some math!"
   ]
  },
  {
   "cell_type": "code",
   "execution_count": null,
   "metadata": {},
   "outputs": [],
   "source": [
    "1 + 1"
   ]
  },
  {
   "cell_type": "markdown",
   "metadata": {},
   "source": [
    "Available operators:\n",
    "\n",
    "|Operator|What's it do|Example|Output|\n",
    "|---|---|---|---|\n",
    "| + | adds     | `1+1` | `2` |\n",
    "| - | subtracts| `2-1` | `1` |\n",
    "|\\* | multiply | `2*2` | `4` |\n",
    "| / | divides  | `5/2` | `2.5` |\n",
    "| //| floor division | `5//2` | `2`|\n",
    "| % | modulo   | `5%2` | `1` |\n",
    "|\\*\\*| exponent | `5**2`| `25` | \n",
    "\n",
    "Try them out!"
   ]
  },
  {
   "cell_type": "code",
   "execution_count": null,
   "metadata": {},
   "outputs": [],
   "source": []
  },
  {
   "cell_type": "markdown",
   "metadata": {},
   "source": [
    "### Variables and #Comments\n",
    "\n"
   ]
  },
  {
   "cell_type": "code",
   "execution_count": null,
   "metadata": {},
   "outputs": [],
   "source": [
    "this = \"A string\"\n",
    "print(this) # And this is a comment that the interpreter ignores"
   ]
  },
  {
   "cell_type": "code",
   "execution_count": null,
   "metadata": {},
   "outputs": [],
   "source": []
  },
  {
   "cell_type": "markdown",
   "metadata": {},
   "source": [
    "### To `print()` or not to `print()`"
   ]
  },
  {
   "cell_type": "code",
   "execution_count": null,
   "metadata": {},
   "outputs": [],
   "source": [
    "1 + 1\n",
    "2 + 2\n",
    "3 + 3"
   ]
  },
  {
   "cell_type": "code",
   "execution_count": null,
   "metadata": {},
   "outputs": [],
   "source": [
    "print(1 + 1)\n",
    "print(2 + 2)\n",
    "print(3 + 3)"
   ]
  },
  {
   "cell_type": "markdown",
   "metadata": {},
   "source": [
    "### Booleans"
   ]
  },
  {
   "cell_type": "code",
   "execution_count": null,
   "metadata": {},
   "outputs": [],
   "source": []
  },
  {
   "cell_type": "markdown",
   "metadata": {},
   "source": [
    "### Strings"
   ]
  },
  {
   "cell_type": "code",
   "execution_count": null,
   "metadata": {},
   "outputs": [],
   "source": [
    "# single, double, or triple quotes\n",
    "\n"
   ]
  },
  {
   "cell_type": "markdown",
   "metadata": {},
   "source": [
    "### Indexes and String Slicing"
   ]
  },
  {
   "cell_type": "code",
   "execution_count": null,
   "metadata": {},
   "outputs": [],
   "source": []
  },
  {
   "cell_type": "markdown",
   "metadata": {},
   "source": [
    "### Lists, Tuples, and Sets"
   ]
  },
  {
   "cell_type": "code",
   "execution_count": null,
   "metadata": {},
   "outputs": [],
   "source": [
    "# lists are made with [x, y, z]\n",
    "# lists are mutable!\n",
    "\n",
    "\n",
    "# tuples are made with (x, y, z)\n",
    "# tuples are immutable\n",
    "\n",
    "\n",
    "# sets are made with {x, y, z}\n",
    "# sets only have unique elements\n",
    "\n"
   ]
  },
  {
   "cell_type": "markdown",
   "metadata": {},
   "source": [
    "### Dictionaries"
   ]
  },
  {
   "cell_type": "code",
   "execution_count": null,
   "metadata": {},
   "outputs": [],
   "source": [
    "# dictionaries are made with { key : value, key2 : value2}"
   ]
  },
  {
   "cell_type": "markdown",
   "metadata": {},
   "source": [
    "### Loopy!\n",
    "\n",
    "For loops:"
   ]
  },
  {
   "cell_type": "code",
   "execution_count": null,
   "metadata": {},
   "outputs": [],
   "source": [
    "# you can name the temp variable anything\n",
    "forlist = [1, 2, 3, 4, 5, 6, 7, 8, 9]\n",
    "\n",
    "for number in forlist:\n",
    "    print (number)"
   ]
  },
  {
   "cell_type": "code",
   "execution_count": null,
   "metadata": {},
   "outputs": [],
   "source": [
    "nestylist = [ [1, 2, 3],\n",
    "              [4, 5, 6],\n",
    "              [7, 8, 9]  ]\n",
    "\n",
    "for group in nestylist:  # name your variables well!\n",
    "    \n",
    "    for number in group: \n",
    "    \n",
    "        print(\"Gimme a {}!\".format(number)) # string formatting is the best!\n"
   ]
  },
  {
   "cell_type": "markdown",
   "metadata": {},
   "source": [
    "While loops:"
   ]
  },
  {
   "cell_type": "code",
   "execution_count": null,
   "metadata": {},
   "outputs": [],
   "source": []
  },
  {
   "cell_type": "markdown",
   "metadata": {},
   "source": [
    "### Reading and Writing Files\n"
   ]
  },
  {
   "cell_type": "code",
   "execution_count": null,
   "metadata": {},
   "outputs": [],
   "source": [
    "# open files with open()\n",
    "file = open(\"outfile.txt\", \"w\") #The first argument is the filename\n",
    "                                #The second arg is read/write privileges\n",
    "\n",
    "# write stuff with write()\n",
    "file.write(\"I just wrote some stuff.\")\n",
    "file.write(\"I also wrote this line too\")\n",
    "\n",
    "# Be sure to close the file when you're done!\n",
    "file.close()"
   ]
  },
  {
   "cell_type": "markdown",
   "metadata": {},
   "source": [
    "Using \"with\" will automatically close the file at the end of the block:"
   ]
  },
  {
   "cell_type": "code",
   "execution_count": null,
   "metadata": {},
   "outputs": [],
   "source": [
    "with open(\"outfile.txt\", \"r\") as file:\n",
    "    for line in file.readlines(): #readlines returns a list of lines as strings\n",
    "        print(line)"
   ]
  }
 ],
 "metadata": {
  "kernelspec": {
   "display_name": "Python 3",
   "language": "python",
   "name": "python3"
  },
  "language_info": {
   "codemirror_mode": {
    "name": "ipython",
    "version": 3
   },
   "file_extension": ".py",
   "mimetype": "text/x-python",
   "name": "python",
   "nbconvert_exporter": "python",
   "pygments_lexer": "ipython3",
   "version": "3.6.4"
  }
 },
 "nbformat": 4,
 "nbformat_minor": 2
}

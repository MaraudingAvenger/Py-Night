{
 "cells": [
  {
   "cell_type": "markdown",
   "metadata": {},
   "source": [
    "# Learn Python at PyNite: N00b Nook\n",
    "\n",
    "<img src='https://media.giphy.com/media/eH9sawQbajAQM/source.gif'>\n",
    "\n",
    "Python.\n",
    "\n",
    "One of the most flexible and straightforward programming languages in the world, ready to do exactly what you tell it.\n",
    "\n",
    "What can you do with Python?\n",
    "\n",
    "Well, anything you want, really; Python is a fully fledged programming language. You can program video games (pygame, turtle, atari-py), back end servers (flask, django), user interfaces (tkinter), Android and iOS apps (kivy, PyAndroid), advanced number processing and math (numpy), spreadsheets and tabular data (pandas, csv), AI and machine learning (scikit, scikit-learn, teapot)... The list is endless, because Python is general purpose!"
   ]
  },
  {
   "cell_type": "markdown",
   "metadata": {},
   "source": [
    "## Program a Thing!\n",
    "\n",
    "Ok, sweet. What should I tell python to do?\n",
    "\n",
    "We're going to start BIG.  You're going to write an ENTIRE PROGRAM.  You're going to type a thing, run a thing -- it's going to be epic.\n",
    "\n",
    "See the box right below here? The one with `In [ ]:` to its left?  That's a *code cell*. You type... code... in it. After you type in your code, you *run* the cell -- that is, you tell Jupyter Notebook (that's this program, that looks like a webpage, that you're reading this on, right now), \"Hey Jupyter, feed this code to the Python interpreter, please.\"\n",
    "\n",
    "How do we run a cell? There are a number of ways:\n",
    "1. You can highlight the cell (by clicking in it) and then click the little button up along the top that looks like this: <img src=''>\n",
    "2. You can highlight the cell and press Ctrl + Enter on your keyboard. (This runs the cell and then keeps it selected)\n",
    "3. You can highlight the cell and press Shift + Enter on your keyboard. (This runs the cell, and then moves to the next one down)\n",
    "\n",
    "Let's write that program now, and then run the cell. \n",
    "\n",
    "Down below, you're going to type: `print(\"Hello world!\")`\n",
    "Then, you should run the cell.\n",
    "\n",
    "SOME POINTERS:\n",
    "* code is case sensitive. `print` is not `Print` is not `pRiNt`.\n",
    "* See those quotation marks? Don't leave them out.\n",
    "* Don't forget to run the cell!\n",
    "\n",
    "You could <sup>copy/paste <sup>the print statement <sup>that's right there</sup></sup></sup>"
   ]
  },
  {
   "cell_type": "code",
   "execution_count": null,
   "metadata": {
    "collapsed": true
   },
   "outputs": [],
   "source": []
  },
  {
   "cell_type": "markdown",
   "metadata": {},
   "source": [
    "\n",
    "***\n",
    "\n",
    "<img src='https://media.giphy.com/media/RaeR2263x7yqQ/giphy.gif'>\n",
    "\n",
    "YOU WROTE A PROGRAM!\n",
    "\n",
    "It performed the absolutely *vital* task of printing out some text to the screen! (That actually is pretty useful, honestly)\n",
    "\n",
    "Ok, now that we're riding that high, what other things can Python do? "
   ]
  },
  {
   "cell_type": "markdown",
   "metadata": {},
   "source": [
    "## Mathification\n",
    "\n",
    "How about some math?  Run the next cell, and see what happens!"
   ]
  },
  {
   "cell_type": "code",
   "execution_count": 1,
   "metadata": {},
   "outputs": [
    {
     "data": {
      "text/plain": [
       "2"
      ]
     },
     "execution_count": 1,
     "metadata": {},
     "output_type": "execute_result"
    }
   ],
   "source": [
    "1 + 1"
   ]
  },
  {
   "cell_type": "markdown",
   "metadata": {},
   "source": [
    "Python can add!  Neat!\n",
    "\n",
    "What other math can it do? All of it!\n",
    "\n",
    "Go ahead -- try some math-ing some things in the next cell. Run it as many times and as many different ways as you like. You should try using some of these handy math-ing *operators*:\n",
    "<table>\n",
    "    <tr>\n",
    "        <td>**Operator**</td>\n",
    "        <td>**Does...**</td>\n",
    "        <td>**Example**</td>\n",
    "        <td>**Result**</td>\n",
    "    </tr>\n",
    "    <tr>\n",
    "        <td>+</td>\n",
    "        <td>addition!</td>\n",
    "        <td>`1 + 1`</td>\n",
    "        <td>`2`</td>\n",
    "    </tr>\n",
    "    <tr>\n",
    "        <td>-</td>\n",
    "        <td>subtraction!</td>\n",
    "        <td>`3 - 5`</td>\n",
    "        <td>`-2`</td>\n",
    "    </tr>\n",
    "    <tr>\n",
    "        <td>\\*</td>\n",
    "        <td>multiplication!</td>\n",
    "        <td>`3 * 3`</td>\n",
    "        <td>`9`</td>\n",
    "    </tr>\n",
    "    <tr>\n",
    "        <td>/</td>\n",
    "        <td>division!</td>\n",
    "        <td>`22 / 7`</td>\n",
    "        <td>`3.14285`</td>\n",
    "    </tr>\n",
    "    <tr>\n",
    "        <td>//</td>\n",
    "        <td>floor division</td>\n",
    "        <td>`22 // 7`</td>\n",
    "        <td>`3`</td>\n",
    "    </tr>\n",
    "    <tr>\n",
    "        <td>\\*\\*</td>\n",
    "        <td>exponents!</td>\n",
    "        <td>`2 ** 3`</td>\n",
    "        <td>`8`</td>\n",
    "    </tr>\n",
    "    <tr>\n",
    "        <td>%</td>\n",
    "        <td>modulo!</td>\n",
    "        <td>`22 % 7`</td>\n",
    "        <td>`1`</td>\n",
    "    </tr>\n",
    "    <tr>\n",
    "        <td>( and )</td>\n",
    "        <td>parentheses!</td>\n",
    "        <td>`(1 + 2) * 2`</td>\n",
    "        <td>`6`</td>\n",
    "    </tr>\n",
    "</table>\n",
    "\n",
    "<div class='alert alert-block alert-warning'>If you don't know what \"floor division\" or \"modulo\" operators are, never fear! We describe them below!</div>"
   ]
  },
  {
   "cell_type": "code",
   "execution_count": 5,
   "metadata": {
    "scrolled": true
   },
   "outputs": [
    {
     "data": {
      "text/plain": [
       "11.109375"
      ]
     },
     "execution_count": 5,
     "metadata": {},
     "output_type": "execute_result"
    }
   ],
   "source": [
    "(3 + 10) - 11 / (4 ** 3) * 11"
   ]
  },
  {
   "cell_type": "markdown",
   "metadata": {},
   "source": [
    "That regular division returns a number with a decimal point after it -- known as a \"floating point precision\" number, or a *float*. *Floor division*, on the other hand, returns an integer -- no decimal after it. \n",
    "\n",
    "The *modulo* operator is like division, but instead of returning the answer, it returns the *remainder*. How could you use that? Well, if a number *modulo* 2 gives you 0, it's even, and if it equals 1, it's odd. Make sense?\n",
    "\n",
    "Play with it some, below, if you want!"
   ]
  },
  {
   "cell_type": "code",
   "execution_count": null,
   "metadata": {
    "collapsed": true
   },
   "outputs": [],
   "source": []
  },
  {
   "cell_type": "markdown",
   "metadata": {},
   "source": [
    "One thing about white space -- Python doesn't care about white space *within a calculation*. It cares elsewhere -- but let's not get ahead of ourselves!  Run the monstrosity below, to prove it:"
   ]
  },
  {
   "cell_type": "code",
   "execution_count": 13,
   "metadata": {},
   "outputs": [
    {
     "data": {
      "text/plain": [
       "9.5"
      ]
     },
     "execution_count": 13,
     "metadata": {},
     "output_type": "execute_result"
    }
   ],
   "source": [
    "((5         +5) -2/2      **          \n",
    "               2)"
   ]
  },
  {
   "cell_type": "markdown",
   "metadata": {},
   "source": [
    "That hurt me to type. \n",
    "\n",
    "But, it shows, you can put as much or as little whitespace as you want *within your calculations*.  Why would you do this? Well, sometimes it's nice to line up all the numbers on multiple lines. "
   ]
  },
  {
   "cell_type": "markdown",
   "metadata": {},
   "source": [
    "## String thing\n",
    "\n",
    "Okay, so that's `int`s and `float`s... What else can Python do?\n",
    "\n",
    "Let's talk about strings. Strings are arrays of characters enclosed in either single (`'`) or double (`\"`) quotes, that Python treats as just that, an array of characters (and whitespace). Run the cell below and see what happens:"
   ]
  },
  {
   "cell_type": "code",
   "execution_count": 15,
   "metadata": {},
   "outputs": [
    {
     "data": {
      "text/plain": [
       "'1 + 1'"
      ]
     },
     "execution_count": 15,
     "metadata": {},
     "output_type": "execute_result"
    }
   ],
   "source": [
    "\"1 + 1\""
   ]
  },
  {
   "cell_type": "markdown",
   "metadata": {},
   "source": [
    "Python just treated that like characters, not like *instructions*. \n",
    "\n",
    "### HOLD UP, Let's talk about print()\n",
    "\n",
    "`print()` is a *built in function*, or just *builtin*. What's it do? Well, you used it, before, when you wrote your `\"Hello world!\"` program, up there (notice that that's a *string*). It `print()`s stuff out to the console -- whatever you put between the parentheses, there. \n",
    "\n",
    "But wait, when we run a cell, it prints stuff out, already. See:"
   ]
  },
  {
   "cell_type": "code",
   "execution_count": 16,
   "metadata": {},
   "outputs": [
    {
     "data": {
      "text/plain": [
       "\"I'm a string!\""
      ]
     },
     "execution_count": 16,
     "metadata": {},
     "output_type": "execute_result"
    }
   ],
   "source": [
    "\"I'm a string!\""
   ]
  },
  {
   "cell_type": "markdown",
   "metadata": {},
   "source": [
    "Why worry about print?\n",
    "\n",
    "What happens here:"
   ]
  },
  {
   "cell_type": "code",
   "execution_count": 17,
   "metadata": {},
   "outputs": [
    {
     "data": {
      "text/plain": [
       "8"
      ]
     },
     "execution_count": 17,
     "metadata": {},
     "output_type": "execute_result"
    }
   ],
   "source": [
    "1 + 1\n",
    "2 + 2\n",
    "3 + 3\n",
    "4 + 4"
   ]
  },
  {
   "cell_type": "markdown",
   "metadata": {},
   "source": [
    "I put a bunch of *statements* in that cell, one per line... But it only printed out the last one -- the other ones calculated, but it only printed out the last one. \n",
    "\n",
    "But check out this one (spacing for effect):"
   ]
  },
  {
   "cell_type": "code",
   "execution_count": 18,
   "metadata": {},
   "outputs": [
    {
     "name": "stdout",
     "output_type": "stream",
     "text": [
      "2\n",
      "4\n",
      "6\n",
      "8\n"
     ]
    }
   ],
   "source": [
    "print( 1 + 1 )\n",
    "print(2+2)\n",
    "print (3  +  3)\n",
    "print(4  +\n",
    "       4)"
   ]
  },
  {
   "cell_type": "markdown",
   "metadata": {},
   "source": [
    "Wow! Because we used the `print()` statements, it printed *everything*, instead of just the last statement.\n",
    "\n",
    "Neat!"
   ]
  },
  {
   "cell_type": "markdown",
   "metadata": {},
   "source": [
    "## Back to Strings\n",
    "\n",
    "OK, so now we know a little about `print()` and about strings -- what else is there to do with strings?\n",
    "\n",
    "Well, you can do some math on strings -- watch:"
   ]
  },
  {
   "cell_type": "code",
   "execution_count": 20,
   "metadata": {},
   "outputs": [
    {
     "data": {
      "text/plain": [
       "'This is the start......and this is the end!'"
      ]
     },
     "execution_count": 20,
     "metadata": {},
     "output_type": "execute_result"
    }
   ],
   "source": [
    "\"This is the start...\" + \"...and this is the end!\""
   ]
  },
  {
   "cell_type": "markdown",
   "metadata": {},
   "source": [
    "It made them into one string -- we call this *string concatenation*. \n",
    "\n",
    "You can multiply strings too:"
   ]
  },
  {
   "cell_type": "code",
   "execution_count": 21,
   "metadata": {},
   "outputs": [
    {
     "name": "stdout",
     "output_type": "stream",
     "text": [
      "ooh ooh ooh ooh \n",
      "ah ah ah \n"
     ]
    }
   ],
   "source": [
    "print(\"ooh \" * 4)\n",
    "print(\"ah \" * 3)"
   ]
  },
  {
   "cell_type": "markdown",
   "metadata": {},
   "source": [
    "Your turn! You do one:"
   ]
  },
  {
   "cell_type": "code",
   "execution_count": null,
   "metadata": {
    "collapsed": true
   },
   "outputs": [],
   "source": []
  },
  {
   "cell_type": "markdown",
   "metadata": {},
   "source": [
    "Now what about a number. `print()` me out a number, of your own creation!"
   ]
  },
  {
   "cell_type": "code",
   "execution_count": null,
   "metadata": {
    "collapsed": true
   },
   "outputs": [],
   "source": []
  },
  {
   "cell_type": "markdown",
   "metadata": {},
   "source": [
    "Now what if I wanted to print a string AND a number?"
   ]
  },
  {
   "cell_type": "code",
   "execution_count": 19,
   "metadata": {},
   "outputs": [
    {
     "ename": "TypeError",
     "evalue": "must be str, not int",
     "output_type": "error",
     "traceback": [
      "\u001b[1;31m---------------------------------------------------------------------------\u001b[0m",
      "\u001b[1;31mTypeError\u001b[0m                                 Traceback (most recent call last)",
      "\u001b[1;32m<ipython-input-19-494a9b236255>\u001b[0m in \u001b[0;36m<module>\u001b[1;34m()\u001b[0m\n\u001b[1;32m----> 1\u001b[1;33m \u001b[0mprint\u001b[0m\u001b[1;33m(\u001b[0m\u001b[1;34m\"a string\"\u001b[0m \u001b[1;33m+\u001b[0m \u001b[1;36m1\u001b[0m\u001b[1;33m)\u001b[0m\u001b[1;33m\u001b[0m\u001b[0m\n\u001b[0m",
      "\u001b[1;31mTypeError\u001b[0m: must be str, not int"
     ]
    }
   ],
   "source": [
    "print(\"a string\" + 1)"
   ]
  },
  {
   "cell_type": "markdown",
   "metadata": {},
   "source": [
    "Oh, wait. That didn't work -- Python won't add a string and a number together, because their types don't match. Python tells us this by raising a TypeError -- and then there's a handy description of what went wrong -- \"must be str, not int\" -- saying that we can't add an `int` to a `str`-ing. \n",
    "\n",
    "It *does* make sense, though -- letters and numbers are of different types.\n",
    "\n",
    "What if I wanted to print out a string and a number, though? Is there a way to make that happen? \n",
    "\n",
    "Sure -- feed them to `print()` as separate *arguments*. When we use that plus sign, we're telling Python, \"add these things together, and make them into ONE thing.\" If we use a comma, instead, we tell Python, \"here's two separate things.\"\n",
    "\n",
    "Observe:"
   ]
  },
  {
   "cell_type": "code",
   "execution_count": 22,
   "metadata": {},
   "outputs": [
    {
     "name": "stdout",
     "output_type": "stream",
     "text": [
      "This is a string 12345\n"
     ]
    }
   ],
   "source": [
    "print(\"This is a string\", 12345)"
   ]
  },
  {
   "cell_type": "markdown",
   "metadata": {},
   "source": [
    "So we fed `print()` two arguments, there. That lets us print any number of things, by the way.\n",
    "\n",
    "Let's have an exercise or two."
   ]
  },
  {
   "cell_type": "markdown",
   "metadata": {},
   "source": [
    "***\n",
    "### Exercise 1\n",
    "\n",
    "I've got a friend named Vlad. He's kind of a loner, likes the dark, always thirsty -- you know the type. Anyway, he's got this very distinctive laugh -- it goes, \"ah ah ah\". See, I like Vlad all right, but I hate typing that laugh -- do you think you could print out \"ah ah ah\" for me, but only type \"ah\" once? See, I've already typed it too many times already -- you go ahead and `print()` that out for me below."
   ]
  },
  {
   "cell_type": "code",
   "execution_count": null,
   "metadata": {
    "collapsed": true
   },
   "outputs": [],
   "source": []
  },
  {
   "cell_type": "markdown",
   "metadata": {},
   "source": [
    "Now that you've helped me with that, there's something wrong with the cell below -- I don't know why it keeps throwing a TypeError. I need you to fix this for me -- the guy is eying me funny and I think I'm about to get kicked out!"
   ]
  },
  {
   "cell_type": "code",
   "execution_count": null,
   "metadata": {
    "collapsed": true
   },
   "outputs": [],
   "source": [
    "print(\"No, bartenter, I swear I'm\" + 21 + \"years old.\")"
   ]
  },
  {
   "cell_type": "markdown",
   "metadata": {},
   "source": [
    "Finally, I forgot my calculator -- how much is a 15% tip on the \\$37 I just spent on a manly pink raspberry cosmo?"
   ]
  },
  {
   "cell_type": "code",
   "execution_count": null,
   "metadata": {
    "collapsed": true
   },
   "outputs": [],
   "source": []
  },
  {
   "cell_type": "markdown",
   "metadata": {},
   "source": [
    "***\n",
    "<img src='https://upload.wikimedia.org/wikipedia/commons/thumb/c/ce/George_Boole_color.jpg/220px-George_Boole_color.jpg' align='right'>\n",
    "Ok, so we've talked a little about `int`s, `float`s, and `str`ings. Are there any other types of data? \n",
    "\n",
    "Cue the *boolean*. \n",
    "\n",
    "Booleans are eponymously named after <a href='https://en.wikipedia.org/wiki/George_Boole'>George Boole</a>, a mathematician from the 1800s who was TOTALLY OBSESSED WITH ONES AND ZEROS.\n",
    "\n",
    "Not really, but a boolean is basically equivalent to binary digit (that can be only a one or a zero).\n",
    "\n",
    "In Python, our booleans can take one of two values: True or False.\n",
    "\n",
    "What's that look like?"
   ]
  },
  {
   "cell_type": "code",
   "execution_count": 23,
   "metadata": {},
   "outputs": [
    {
     "data": {
      "text/plain": [
       "True"
      ]
     },
     "execution_count": 23,
     "metadata": {},
     "output_type": "execute_result"
    }
   ],
   "source": [
    "True"
   ]
  },
  {
   "cell_type": "code",
   "execution_count": 24,
   "metadata": {},
   "outputs": [
    {
     "data": {
      "text/plain": [
       "bool"
      ]
     },
     "execution_count": 24,
     "metadata": {},
     "output_type": "execute_result"
    }
   ],
   "source": [
    "type(True)"
   ]
  },
  {
   "cell_type": "markdown",
   "metadata": {},
   "source": [
    "Oh, neat, another *builtin* that lets us check the type of something."
   ]
  },
  {
   "cell_type": "code",
   "execution_count": 25,
   "metadata": {},
   "outputs": [
    {
     "data": {
      "text/plain": [
       "int"
      ]
     },
     "execution_count": 25,
     "metadata": {},
     "output_type": "execute_result"
    }
   ],
   "source": [
    "type(1)"
   ]
  },
  {
   "cell_type": "code",
   "execution_count": 26,
   "metadata": {},
   "outputs": [
    {
     "data": {
      "text/plain": [
       "str"
      ]
     },
     "execution_count": 26,
     "metadata": {},
     "output_type": "execute_result"
    }
   ],
   "source": [
    "type(\"womp womp\")"
   ]
  },
  {
   "cell_type": "code",
   "execution_count": 27,
   "metadata": {},
   "outputs": [
    {
     "data": {
      "text/plain": [
       "float"
      ]
     },
     "execution_count": 27,
     "metadata": {},
     "output_type": "execute_result"
    }
   ],
   "source": [
    "type(1.2345)"
   ]
  },
  {
   "cell_type": "markdown",
   "metadata": {},
   "source": [
    "Neat!\n",
    "\n",
    "So back to these boolean things -- what good are they? \n",
    "\n",
    "Well, they're great for comparing things together. Is thing 1 the same as thing 2? Is thing 1 bigger than thing 2?\n",
    "\n",
    "We use *comparison operators* to compare things, and they'll return a boolean -- a True or False:"
   ]
  },
  {
   "cell_type": "code",
   "execution_count": 29,
   "metadata": {},
   "outputs": [
    {
     "data": {
      "text/plain": [
       "False"
      ]
     },
     "execution_count": 29,
     "metadata": {},
     "output_type": "execute_result"
    }
   ],
   "source": [
    "1 > 2"
   ]
  },
  {
   "cell_type": "markdown",
   "metadata": {},
   "source": [
    "Here are all the comparison operators -- you should play with them in the next cell:\n",
    "\n",
    "<table>\n",
    "    <tr>\n",
    "        <td>Operator</td>\n",
    "        <td>Means...</td>\n",
    "        <td>Example</td>\n",
    "        <td>Result</td>\n",
    "    </tr>\n",
    "    <tr>\n",
    "        <td>></td>\n",
    "        <td>greater than!</td>\n",
    "        <td>`2 > 1`</td>\n",
    "        <td>`True`</td>\n",
    "    </tr>\n",
    "    <tr>\n",
    "        <td><</td>\n",
    "        <td>less than!</td>\n",
    "        <td>`2 < 1`</td>\n",
    "        <td>`False`</td>\n",
    "    </tr>\n",
    "    <tr>\n",
    "        <td>==</td>\n",
    "        <td>equal to!</td>\n",
    "        <td>`2 == 2`</td>\n",
    "        <td>`True`</td>\n",
    "    </tr>\n",
    "    <tr>\n",
    "        <td>>=</td>\n",
    "        <td>greater or equal to!</td>\n",
    "        <td>`3 >= 3`</td>\n",
    "        <td>`True`</td>\n",
    "    </tr>\n",
    "    <tr>\n",
    "        <td><=</td>\n",
    "        <td>less or equal to!</td>\n",
    "        <td>`4 <= 3`</td>\n",
    "        <td>`False`</td>\n",
    "    </tr>\n",
    "    <tr>\n",
    "        <td>!</td>\n",
    "        <td>not!</td>\n",
    "        <td>`2 != 1`</td>\n",
    "        <td>`True`</td>\n",
    "    </tr>\n",
    "</table>\n",
    "\n",
    "<div class='alert alert-block alert-danger'> Look at that test for equivalency -- it's TWO equals signs. TWO of them. \"equals equals\". Dos. Deux. Zwei. Don't put ONE equals sign; that's the *assignment* operator, that we'll get to in a moment.</div>"
   ]
  },
  {
   "cell_type": "code",
   "execution_count": null,
   "metadata": {
    "collapsed": true
   },
   "outputs": [],
   "source": []
  },
  {
   "cell_type": "markdown",
   "metadata": {},
   "source": [
    "Did you find some equivalencies? \n",
    "\n",
    "Here are some odd ones:"
   ]
  },
  {
   "cell_type": "code",
   "execution_count": 1,
   "metadata": {},
   "outputs": [
    {
     "data": {
      "text/plain": [
       "True"
      ]
     },
     "execution_count": 1,
     "metadata": {},
     "output_type": "execute_result"
    }
   ],
   "source": [
    "True == 1"
   ]
  },
  {
   "cell_type": "code",
   "execution_count": 2,
   "metadata": {},
   "outputs": [
    {
     "data": {
      "text/plain": [
       "True"
      ]
     },
     "execution_count": 2,
     "metadata": {},
     "output_type": "execute_result"
    }
   ],
   "source": [
    "False == 0"
   ]
  },
  {
   "cell_type": "markdown",
   "metadata": {},
   "source": [
    "That's something that Python does -- that True is the same thing as a 1, and that False is the same thing as a zero. "
   ]
  },
  {
   "cell_type": "code",
   "execution_count": null,
   "metadata": {
    "collapsed": true
   },
   "outputs": [],
   "source": []
  }
 ],
 "metadata": {
  "kernelspec": {
   "display_name": "Python 3",
   "language": "python",
   "name": "python3"
  },
  "language_info": {
   "codemirror_mode": {
    "name": "ipython",
    "version": 3
   },
   "file_extension": ".py",
   "mimetype": "text/x-python",
   "name": "python",
   "nbconvert_exporter": "python",
   "pygments_lexer": "ipython3",
   "version": "3.6.3"
  }
 },
 "nbformat": 4,
 "nbformat_minor": 2
}

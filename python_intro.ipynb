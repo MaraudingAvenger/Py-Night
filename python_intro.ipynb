{
 "cells": [
  {
   "cell_type": "markdown",
   "metadata": {},
   "source": [
    "# Let's Learn Some Python\n",
    "\n",
    "<img src='https://media.giphy.com/media/eH9sawQbajAQM/source.gif'>\n",
    "\n",
    "Python.\n",
    "\n",
    "One of the most flexible and straightforward programming languages in the world, ready to do exactly what you tell it.\n",
    "\n",
    "What can you do with Python?\n",
    "\n",
    "Well, anything you want, really; Python is a fully fledged programming language. You can program video games (pygame, turtle, atari-py), back end servers (flask, django), user interfaces (tkinter), Android and iOS apps (kivy, PyAndroid), advanced number processing and math (numpy), spreadsheets and tabular data (pandas, csv), AI and machine learning (scikit, scikit-learn, teapot)... The list is endless, because Python is general purpose!"
   ]
  },
  {
   "cell_type": "markdown",
   "metadata": {},
   "source": [
    "## Program a Thing!\n",
    "\n",
    "Ok, sweet. What should I tell python to do?\n",
    "\n",
    "We're going to start BIG.  You're going to write an ENTIRE PROGRAM.  You're going to type a thing, run a thing -- it's going to be epic.\n",
    "\n",
    "See the box right below here? The one with `In [ ]:` to its left?  That's a *code cell*. You type... code... in it. After you type in your code, you *run* the cell -- that is, you tell Jupyter Notebook (that's this program, that looks like a webpage, that you're reading this on, right now), \"Hey Jupyter, feed this code to the Python interpreter, please.\"\n",
    "\n",
    "How do we run a cell? There are a number of ways:\n",
    "1. You can highlight the cell (by clicking in it) and then click the little button up along the top that looks like this: <img src=''>\n",
    "2. You can highlight the cell and press Ctrl + Enter on your keyboard. (This runs the cell and then keeps it selected)\n",
    "3. You can highlight the cell and press Shift + Enter on your keyboard. (This runs the cell, and then moves to the next one down)\n",
    "\n",
    "You can run a cell as many times as you want! Go for it! -- also, this notebook is written under the assumption that you'll run every cell, as we go. So don't be scared to run any of them!\n",
    "\n",
    "Let's write that program now, and then run the cell. \n",
    "\n",
    "Down below, you're going to type: `print(\"Hello world!\")`  \n",
    "Then, you should run the cell.\n",
    "\n",
    "SOME POINTERS:\n",
    "* code is case sensitive. `print` is not `Print` is not `pRiNt`.\n",
    "* See those quotation marks? Don't leave them out.\n",
    "* Don't forget to run the cell!\n",
    "\n",
    "...You could <sup>copy/paste <sup>the print statement <sup>that's right there</sup></sup></sup>"
   ]
  },
  {
   "cell_type": "code",
   "execution_count": null,
   "metadata": {
    "collapsed": true
   },
   "outputs": [],
   "source": []
  },
  {
   "cell_type": "markdown",
   "metadata": {},
   "source": [
    "\n",
    "***\n",
    "\n",
    "<img src='https://media.giphy.com/media/RaeR2263x7yqQ/giphy.gif'>\n",
    "\n",
    "YOU WROTE A PROGRAM!\n",
    "\n",
    "It performed the absolutely *vital* task of printing out some text to the screen! (That actually is pretty useful, honestly.)\n",
    "\n",
    "When we run cells like that, or any Python program, Python starts at the top line of the file, and reads through it, left to right, top to bottom. Every line is a *statement*, that tells Python to do something. We just told Python \"print this stuff out to the console, please\", and Python said, \"Okay.\"\n",
    "\n",
    "Ok, now that we're riding that high, what other things can Python do? "
   ]
  },
  {
   "cell_type": "markdown",
   "metadata": {},
   "source": [
    "## Mathification\n",
    "\n",
    "How about some math?  Run the next cell, and see what happens!"
   ]
  },
  {
   "cell_type": "code",
   "execution_count": null,
   "metadata": {},
   "outputs": [],
   "source": [
    "1 + 1"
   ]
  },
  {
   "cell_type": "markdown",
   "metadata": {},
   "source": [
    "Python can add!  Neat!\n",
    "\n",
    "What other math can it do? All of it!\n",
    "\n",
    "Go ahead -- try some math-ing some things in the next cell. Run it as many times and as many different ways as you like. You should try using some of these handy math-ing *operators*:\n",
    "<table>\n",
    "    <tr>\n",
    "        <td>**Operator**</td>\n",
    "        <td>**Does...**</td>\n",
    "        <td>**Example**</td>\n",
    "        <td>**Result**</td>\n",
    "    </tr>\n",
    "    <tr>\n",
    "        <td>+</td>\n",
    "        <td>addition!</td>\n",
    "        <td>`1 + 1`</td>\n",
    "        <td>`2`</td>\n",
    "    </tr>\n",
    "    <tr>\n",
    "        <td>-</td>\n",
    "        <td>subtraction!</td>\n",
    "        <td>`3 - 5`</td>\n",
    "        <td>`-2`</td>\n",
    "    </tr>\n",
    "    <tr>\n",
    "        <td>\\*</td>\n",
    "        <td>multiplication!</td>\n",
    "        <td>`3 * 3`</td>\n",
    "        <td>`9`</td>\n",
    "    </tr>\n",
    "    <tr>\n",
    "        <td>/</td>\n",
    "        <td>division!</td>\n",
    "        <td>`22 / 7`</td>\n",
    "        <td>`3.14285`</td>\n",
    "    </tr>\n",
    "    <tr>\n",
    "        <td>//</td>\n",
    "        <td>floor division</td>\n",
    "        <td>`22 // 7`</td>\n",
    "        <td>`3`</td>\n",
    "    </tr>\n",
    "    <tr>\n",
    "        <td>\\*\\*</td>\n",
    "        <td>exponents!</td>\n",
    "        <td>`2 ** 3`</td>\n",
    "        <td>`8`</td>\n",
    "    </tr>\n",
    "    <tr>\n",
    "        <td>%</td>\n",
    "        <td>modulo!</td>\n",
    "        <td>`22 % 7`</td>\n",
    "        <td>`1`</td>\n",
    "    </tr>\n",
    "    <tr>\n",
    "        <td>( and )</td>\n",
    "        <td>parentheses!</td>\n",
    "        <td>`(1 + 2) * 2`</td>\n",
    "        <td>`6`</td>\n",
    "    </tr>\n",
    "</table>\n",
    "\n",
    "<div class='alert alert-block alert-warning'>If you don't know what \"floor division\" or \"modulo\" operators are, never fear! We describe them below!</div>"
   ]
  },
  {
   "cell_type": "code",
   "execution_count": null,
   "metadata": {
    "scrolled": true
   },
   "outputs": [],
   "source": [
    "(3 + 10) - 11 / (4 ** 3) * 11"
   ]
  },
  {
   "cell_type": "markdown",
   "metadata": {},
   "source": [
    "That regular division returns a number with a decimal point after it -- known as a \"floating point precision\" number, or a *float*. *Floor division*, on the other hand, returns an integer -- no decimal after it. \n",
    "\n",
    "The *modulo* operator is like division, but instead of returning the answer, it returns the *remainder*. How could you use that? Well, if a number *modulo* 2 gives you 0, it's even, and if it equals 1, it's odd. Make sense?\n",
    "\n",
    "Play with it some, below, if you want!"
   ]
  },
  {
   "cell_type": "code",
   "execution_count": null,
   "metadata": {
    "collapsed": true
   },
   "outputs": [],
   "source": []
  },
  {
   "cell_type": "markdown",
   "metadata": {},
   "source": [
    "One thing about white space -- Python doesn't care about white space:\n",
    "* between parentheses, square brackets, or curly braces\n",
    "* between elements on the same line \n",
    "\n",
    "It cares elsewhere -- but let's not get ahead of ourselves!  Run the monstrosity below, to prove it:"
   ]
  },
  {
   "cell_type": "code",
   "execution_count": null,
   "metadata": {},
   "outputs": [],
   "source": [
    "((5         +5) -2/2      **          \n",
    "               2)"
   ]
  },
  {
   "cell_type": "markdown",
   "metadata": {},
   "source": [
    "That hurt me to type. \n",
    "\n",
    "But, it shows, you can put as much or as little whitespace as you want *within your calculations*.  Why would you do this? Well, sometimes it's nice to line up all the numbers on multiple lines:"
   ]
  },
  {
   "cell_type": "code",
   "execution_count": null,
   "metadata": {},
   "outputs": [],
   "source": [
    "print(  1 + 1  )\n",
    "print(100 + 100)\n",
    "print( 38 + 38 )"
   ]
  },
  {
   "cell_type": "markdown",
   "metadata": {},
   "source": [
    "This also allows you to *comment* portions of a function or math problem. \n",
    "\n",
    "Commenting is GOOD.  Commenting makes your mother proud. You should comment a lot. How do you comment? With a poundsign (`#`):"
   ]
  },
  {
   "cell_type": "code",
   "execution_count": null,
   "metadata": {},
   "outputs": [],
   "source": [
    "print(\"The interpreter sees this\") # The interpreter doesn't see this\n",
    "\n",
    "print(                      # Opening parentheses\n",
    "    \"One plus one equals\",  # This part prints a string, and has a comma after it...\n",
    "    1 + 1                   # ...this part prints a number\n",
    "     )                      # Closed parentheses.\n",
    "\n",
    "# I told you Python doesn't care about white space between parentheses, right?"
   ]
  },
  {
   "cell_type": "markdown",
   "metadata": {},
   "source": [
    "When you comment, the interpreter completely ignores the rest of the line after the \"#\". You TOTALLY don't have to line up your comments, like that, either, but I like how it looks, so I do that, occasionally -- it's entirely up to you, though!\n",
    "\n",
    "...But wait, I used a new data type there -- what was that? A string!"
   ]
  },
  {
   "cell_type": "markdown",
   "metadata": {},
   "source": [
    "## String thing\n",
    "\n",
    "So we talked about `int`s and `float`s... What are these strings?\n",
    "\n",
    "Strings are arrays of characters enclosed in either single (`'`) or double (`\"`) quotes, that Python treats as just that, an array of characters (and whitespace). Run the cell below and see what happens:"
   ]
  },
  {
   "cell_type": "code",
   "execution_count": null,
   "metadata": {},
   "outputs": [],
   "source": [
    "\"1 + 1\""
   ]
  },
  {
   "cell_type": "markdown",
   "metadata": {},
   "source": [
    "Python just treated that like characters, not like *instructions*. \n",
    "\n",
    "### HOLD UP, Let's talk about print()\n",
    "\n",
    "`print()` is a *built in function*, or just *builtin*. What's it do? Well, you used it, before, when you wrote your `\"Hello world!\"` program, up there (notice that `\"Hello world!\"` is a *string*). It `print()`s stuff out to the console -- whatever you put between the parentheses, there. \n",
    "\n",
    "But wait, when we run a cell, it prints stuff out, already. See:"
   ]
  },
  {
   "cell_type": "code",
   "execution_count": null,
   "metadata": {},
   "outputs": [],
   "source": [
    "\"I'm a string!\""
   ]
  },
  {
   "cell_type": "markdown",
   "metadata": {},
   "source": [
    "Why worry about print?\n",
    "\n",
    "What happens here:"
   ]
  },
  {
   "cell_type": "code",
   "execution_count": null,
   "metadata": {},
   "outputs": [],
   "source": [
    "1 + 1  # >> 2\n",
    "2 + 2  # >> 4\n",
    "3 + 3  # >> 6\n",
    "4 + 4  # >> 8"
   ]
  },
  {
   "cell_type": "markdown",
   "metadata": {},
   "source": [
    "I put a bunch of *statements* in that cell, one per line... But it only printed out the last one -- the other ones calculated, but it only printed out the last one. \n",
    "\n",
    "But check out this one (the spacing is because I wanted to remind you that it's fine between parentheses!):"
   ]
  },
  {
   "cell_type": "code",
   "execution_count": null,
   "metadata": {},
   "outputs": [],
   "source": [
    "print( 1 + 1 )\n",
    "print(2+2)\n",
    "print (3  +  3)\n",
    "print(4  +\n",
    "       4)"
   ]
  },
  {
   "cell_type": "markdown",
   "metadata": {},
   "source": [
    "Wow! Because we used the `print()` statements, it printed *each thing*, instead of just the last statement.\n",
    "\n",
    "Neat!"
   ]
  },
  {
   "cell_type": "markdown",
   "metadata": {},
   "source": [
    "## Back to Strings\n",
    "\n",
    "OK, so now we know a little about `print()` and about strings -- what else is there to do with strings?\n",
    "\n",
    "Well, you can do some math on strings -- watch:"
   ]
  },
  {
   "cell_type": "code",
   "execution_count": null,
   "metadata": {},
   "outputs": [],
   "source": [
    "\"This is the start...\" + \"...and this is the end!\""
   ]
  },
  {
   "cell_type": "markdown",
   "metadata": {},
   "source": [
    "It made them into one string -- we call this *string concatenation*. \n",
    "\n",
    "You can multiply strings too:"
   ]
  },
  {
   "cell_type": "code",
   "execution_count": null,
   "metadata": {},
   "outputs": [],
   "source": [
    "print(\"ooh \" * 4)  # notice the space after \"ooh \"\n",
    "print(\"ah \" * 3)   # and \"ah \" too"
   ]
  },
  {
   "cell_type": "markdown",
   "metadata": {},
   "source": [
    "Your turn! You do one:"
   ]
  },
  {
   "cell_type": "code",
   "execution_count": null,
   "metadata": {
    "collapsed": true
   },
   "outputs": [],
   "source": []
  },
  {
   "cell_type": "markdown",
   "metadata": {},
   "source": [
    "Now what about a number? `print()` me out a number, of your own creation!"
   ]
  },
  {
   "cell_type": "code",
   "execution_count": null,
   "metadata": {
    "collapsed": true
   },
   "outputs": [],
   "source": []
  },
  {
   "cell_type": "markdown",
   "metadata": {},
   "source": [
    "Now what if I wanted to print a string AND a number? Run this and see what happens:"
   ]
  },
  {
   "cell_type": "code",
   "execution_count": null,
   "metadata": {},
   "outputs": [],
   "source": [
    "print(\"a string\" + 1)"
   ]
  },
  {
   "cell_type": "markdown",
   "metadata": {},
   "source": [
    "Oh, wait. That didn't work -- Python won't add a string and a number together, because their types don't match. Python tells us this by raising a TypeError -- and then there's a handy description of what went wrong -- \"must be str, not int\" -- saying that we can't add an `int` to a `str`-ing. \n",
    "\n",
    "It *does* make sense, though -- letters and numbers are of different types.\n",
    "\n",
    "What if I wanted to print out a string and a number, though? Is there a way to make that happen? \n",
    "\n",
    "Sure -- feed them to `print()` as separate *arguments*. When we use that plus sign, we're telling Python, \"add these things together, and make them into ONE thing, and then print that one thing.\" If we use a comma, instead, we tell Python, \"here's two separate things; print each of them.\"\n",
    "\n",
    "Observe:"
   ]
  },
  {
   "cell_type": "code",
   "execution_count": null,
   "metadata": {},
   "outputs": [],
   "source": [
    "print(\"This is a string\", 12345)"
   ]
  },
  {
   "cell_type": "markdown",
   "metadata": {},
   "source": [
    "So we fed `print()` two arguments, there. `print()` will let us print out any number of things, separated by commas, by the way."
   ]
  },
  {
   "cell_type": "markdown",
   "metadata": {},
   "source": [
    "So, there's one more things about strings. You can also make a string with triple quotes -- three single or three double quotation marks. When you make a string this way, it allows you to go across multiple lines:"
   ]
  },
  {
   "cell_type": "code",
   "execution_count": null,
   "metadata": {},
   "outputs": [],
   "source": [
    "\"\"\"There once was a man from Nantucket,\n",
    "Who kept all his cash in a bucket,\n",
    "His daughter named Nan,\n",
    "Ran away with a man,\n",
    "And as for the bucket, Nan tuck it.\n",
    "\"\"\""
   ]
  },
  {
   "cell_type": "markdown",
   "metadata": {},
   "source": [
    "You might see some strange characters in the output up there. Those `\\n` things -- those are special characters that represent a newline. There are a bunch of other special characters, but `\\n` is *BY FAR* the most common, followed by `\\t`, the `tab` character. \n",
    "\n",
    "When you use the `print()` function, Python *renders* the special characters in strings, instead of printing the their representations:"
   ]
  },
  {
   "cell_type": "code",
   "execution_count": null,
   "metadata": {},
   "outputs": [],
   "source": [
    "print(\"this\\n\\tis\\n\\t\\tgoing\\n\\t\\t\\tto\\n\\t\\t\\t\\tbe\\n\\t\\t\\t\\t\\tawesome!\")  # I went overboard, sorry!"
   ]
  },
  {
   "cell_type": "markdown",
   "metadata": {},
   "source": [
    "You do some!  Play with special characters and make a fun string:"
   ]
  },
  {
   "cell_type": "code",
   "execution_count": null,
   "metadata": {},
   "outputs": [],
   "source": []
  },
  {
   "cell_type": "markdown",
   "metadata": {},
   "source": [
    "***\n",
    "### Time for an Exercise!\n",
    "\n",
    "I've got a friend named Vlad. He's kind of a loner, likes the dark, always thirsty -- you know the type. Anyway, he's got this very distinctive laugh -- it goes, \"ah ah ah\". See, I like Vlad all right, but I hate typing that laugh -- do you think you could print out \"ah ah ah\" for me, but only type \"ah\" once? See, I've already typed it too many times already -- you go ahead and `print()` that out for me below."
   ]
  },
  {
   "cell_type": "code",
   "execution_count": null,
   "metadata": {
    "collapsed": true
   },
   "outputs": [],
   "source": []
  },
  {
   "cell_type": "markdown",
   "metadata": {},
   "source": [
    "Now that you've helped me with that, there's something wrong with the cell below -- I don't know why it keeps throwing a TypeError. I need you to fix this for me -- the guy is eying me funny and I think I'm about to get kicked out!"
   ]
  },
  {
   "cell_type": "code",
   "execution_count": null,
   "metadata": {
    "collapsed": true
   },
   "outputs": [],
   "source": [
    "print(\"No, bartenter, I swear I'm\" + 21 + \"years old.\")"
   ]
  },
  {
   "cell_type": "markdown",
   "metadata": {},
   "source": [
    "Finally, I forgot my calculator -- how much is a 15% tip on the \\$37 I just spent on a manly pink raspberry cosmo?"
   ]
  },
  {
   "cell_type": "code",
   "execution_count": null,
   "metadata": {
    "collapsed": true
   },
   "outputs": [],
   "source": []
  },
  {
   "cell_type": "markdown",
   "metadata": {},
   "source": [
    "Okay, just ONE more. I have this string that's one line -- but I want to split it up onto multiple lines. Culd you help me with that?"
   ]
  },
  {
   "cell_type": "code",
   "execution_count": null,
   "metadata": {},
   "outputs": [],
   "source": [
    "print(\"line1 line2 line3 line4 line5\")"
   ]
  },
  {
   "cell_type": "markdown",
   "metadata": {},
   "source": [
    "***\n",
    "\n",
    "## Variables\n",
    "\n",
    "Now you've got some (int, float, string) data types under your belt, what if we wanted some of that data to stick around for awhile? \n",
    "\n",
    "see below:"
   ]
  },
  {
   "cell_type": "code",
   "execution_count": null,
   "metadata": {},
   "outputs": [],
   "source": [
    "5+5"
   ]
  },
  {
   "cell_type": "markdown",
   "metadata": {},
   "source": [
    "Great, I made a `10`! ... but... now the ten is gone forever. I mean, I could calculate it again, but *that* ten that I made above is gone, now. If I want to keep something around, I could *store it in memory*, so that I can get it back later. \n",
    "\n",
    "Think of a variable as a name that we stick on a section of memory.  The section of memory is a clear plastic box that we can store something in, and the name is a sticky note on the outside of the box.  Then, when we use that variable's name, Python sees goes to the clear plastic box with that data in it, and sees the data inside the clear plastic box. \n",
    "\n",
    "Check it out:"
   ]
  },
  {
   "cell_type": "code",
   "execution_count": null,
   "metadata": {},
   "outputs": [],
   "source": [
    "my_rad_number = 5 + 5\n",
    "\n",
    "my_rad_number"
   ]
  },
  {
   "cell_type": "markdown",
   "metadata": {},
   "source": [
    "What just happened there, is Python saw the equals sign, a.k.a. the *assignment operator*, then calculated what was on the right side of it, and stored it in a block of memory, and put the sticky note \"my_rad_number\" on that block. \n",
    "\n",
    "Variable names can contain upper and lower case letters, numbers, and underscores, but they can't start with a number. So, `1number` is invalid, but `number1` is totally fine. \n",
    "\n",
    "When you assign something to a variable, that thing is stored at a certain address in memory -- you can even see that address in memory with the `id()` built-in function:"
   ]
  },
  {
   "cell_type": "code",
   "execution_count": null,
   "metadata": {},
   "outputs": [],
   "source": [
    "id(my_rad_number)"
   ]
  },
  {
   "cell_type": "markdown",
   "metadata": {},
   "source": [
    "Mine is in memory block `2009558784` -- yours will be different. That's the address of that object, in memory.\n",
    "\n",
    "Now I can call back `my_rad_number` any time, and Python sees the `10` that's stored in it:"
   ]
  },
  {
   "cell_type": "code",
   "execution_count": null,
   "metadata": {},
   "outputs": [],
   "source": [
    "print(my_rad_number * 2)"
   ]
  },
  {
   "cell_type": "markdown",
   "metadata": {},
   "source": [
    "did that change the value of my rad number?"
   ]
  },
  {
   "cell_type": "code",
   "execution_count": null,
   "metadata": {},
   "outputs": [],
   "source": [
    "print(my_rad_number)  # nope, it didn't change it."
   ]
  },
  {
   "cell_type": "markdown",
   "metadata": {},
   "source": [
    "If I want to change the value, I can do a number of things:"
   ]
  },
  {
   "cell_type": "code",
   "execution_count": null,
   "metadata": {},
   "outputs": [],
   "source": [
    "my_rad_number = 9  # This reassigned the number nine to my_rad_number\n",
    "\n",
    "print(my_rad_number)  # >> 9\n",
    "\n",
    "my_rad_number = my_rad_number + 1 # hmmmm... let's discuss this below\n",
    "\n",
    "print(my_rad_number)  # >> 10"
   ]
  },
  {
   "cell_type": "markdown",
   "metadata": {},
   "source": [
    "That second bit of code up there -- Python saw \"[variable name] = [9] + 1\".  Remember that when we call a variable, Python sees past that variable into the clear plastic box where the data is stored, and sees the `9` that we stored there before. \n",
    "\n",
    "This operation is super common in programming, so there's a shorthand version of it:"
   ]
  },
  {
   "cell_type": "code",
   "execution_count": null,
   "metadata": {},
   "outputs": [],
   "source": [
    "number = 5   # now the variable \"number\" is set to 5\n",
    "\n",
    "number += 1  # this is short for number = number + 1\n",
    "\n",
    "print(\"number =\", number)  "
   ]
  },
  {
   "cell_type": "markdown",
   "metadata": {},
   "source": [
    "You can use other math operators in conjunction with `=` for similar effects:"
   ]
  },
  {
   "cell_type": "code",
   "execution_count": null,
   "metadata": {},
   "outputs": [],
   "source": [
    "number = 5  # set number to 5 again\n",
    "\n",
    "number -= 1  # now number is 4\n",
    "print(\"number =\", number) \n",
    "\n",
    "number *= 3  # now number is 12\n",
    "print(\"now, number =\", number)  \n",
    "\n",
    "number /= 6  # now number is 2.0\n",
    "print(\"finally, number =\", number)  "
   ]
  },
  {
   "cell_type": "markdown",
   "metadata": {},
   "source": [
    "You can assign *anything* to a variable. I mean, *anything*. You can assign any kind of data -- numbers, strings, booleans, etc., and even things like including functions, or even calculations. But beware, when you assign something, Python performs the calculation *first*, then assigns the *result* to the variable; it doesn't do the calculation each time."
   ]
  },
  {
   "cell_type": "code",
   "execution_count": null,
   "metadata": {},
   "outputs": [],
   "source": [
    "something = 33 * 11 + 7 // 8 % 7\n",
    "\n",
    "print(something)"
   ]
  },
  {
   "cell_type": "markdown",
   "metadata": {},
   "source": [
    "Play with variables, assignment, and reassignment below!"
   ]
  },
  {
   "cell_type": "code",
   "execution_count": null,
   "metadata": {},
   "outputs": [],
   "source": []
  },
  {
   "cell_type": "markdown",
   "metadata": {},
   "source": [
    "***\n",
    "\n",
    "## Time for an Exercise\n"
   ]
  },
  {
   "cell_type": "markdown",
   "metadata": {},
   "source": [
    "Could you help my friend Vlad again? Remember his distinctive laugh? I hate typing it out \"ah ah ah\" every time I write his laugh -- maybe we could store that string somehow, so we could call it up over and over again? ...maybe in a variable?  Then, could you print out a number and his laugh a couple of times? like, \"1, ah ah ah\", then \"2, ah ah ah\" etc?"
   ]
  },
  {
   "cell_type": "code",
   "execution_count": null,
   "metadata": {},
   "outputs": [],
   "source": []
  },
  {
   "cell_type": "markdown",
   "metadata": {},
   "source": [
    "Awesome! Now, I've made a variable below, but I just realized that it's too small by 5 -- do you think you could *increment* it? That is, maybe use some kind of shorthand that lets you add and assign at the same time? That would be rad."
   ]
  },
  {
   "cell_type": "code",
   "execution_count": null,
   "metadata": {},
   "outputs": [],
   "source": [
    "a_variable = 8675299  # This is 10 too few.\n",
    "\n",
    "# your code here\n",
    "\n",
    "print(a_variable)"
   ]
  },
  {
   "cell_type": "markdown",
   "metadata": {},
   "source": [
    "Did I song bomb you? Oh man. Maybe I wasn't sneaky enough. "
   ]
  },
  {
   "cell_type": "markdown",
   "metadata": {},
   "source": [
    "***\n",
    "\n",
    "Now! ...we're still not done with strings. Strings are super important, because a lot of the time, when you read something into your Python program, it'll come in as a string.\n",
    "\n",
    "What if the whole line (or the whole file!) that you read in is *one string*? We'll, you're going to have to find your way around the string using indexing, slicing, and string methods. Let's check those out."
   ]
  },
  {
   "cell_type": "markdown",
   "metadata": {},
   "source": [
    "## Indexing and Slicing\n",
    "\n",
    "First, we'll start with indexes and slices. You may have noticed that when I talked about strings, I said that they were an \"indexed array\" of characters. That means that Python keeps track of which character is where, in the string. Makes sense, right? If not, your beautiful string would just come back as a jumble of letters, whitespace, and special characters.\n",
    "\n",
    "If you want to go to a specific spot in a string, you do it by telling python the *index* of that character in the string, between some square brackets (`[]`). Such a serious topic needs a serious example:"
   ]
  },
  {
   "cell_type": "code",
   "execution_count": null,
   "metadata": {},
   "outputs": [],
   "source": [
    "serious = \"This is a string about ducks.\"\n",
    "\n",
    "serious[3]"
   ]
  },
  {
   "cell_type": "markdown",
   "metadata": {},
   "source": [
    "That's saying that the character at index 3 is an 's'.  How's that?\n",
    "\n",
    "Well, in Python (and most programming languages) indexes start at 0. Sometimes it's helpful to think of an index as an \"offset\" -- that is, the first letter, `\"T\"` has `0` letters between it and the start. The `\"s\"` in \"This\" has `3` letters between it and the start of the string, so it's offset by `3`.\n",
    "\n",
    "Quick, important conceptual fact: a piece of a string is a string. That 's' that we got by indexing to `serious[3]` is a full fledged string, so we can do things to it, just like other strings. Check it:"
   ]
  },
  {
   "cell_type": "code",
   "execution_count": null,
   "metadata": {},
   "outputs": [],
   "source": [
    "serious[3] + serious[5] + serious[11]"
   ]
  },
  {
   "cell_type": "markdown",
   "metadata": {},
   "source": [
    "I just concatenated (added) 3 of those strings (or *sub-strings*, since they are shorter strings that came from a string) together, and spelled `'sit'`.\n",
    "\n",
    "Python sees the string like this:\n",
    "\n",
    "|index:|0|1|2|3|4|5|6|7|8|9|10|11|12|13|14|15|16|17|18|19|20|21|22|23|24|25|26|27|28|\n",
    "|---|---|---|---|---|---|---|---|---|---|---|---|---|\n",
    "|letter:| T|h|i|s| |i|s| |a| |s|t|r|i|n|g| |a|b|o|u|t| |d|u|c|k|s|.|"
   ]
  },
  {
   "cell_type": "markdown",
   "metadata": {},
   "source": [
    "Using that table above, spell something else out, in the cell below, using indexing and string concatenation (`+`):"
   ]
  },
  {
   "cell_type": "code",
   "execution_count": null,
   "metadata": {},
   "outputs": [],
   "source": []
  },
  {
   "cell_type": "markdown",
   "metadata": {},
   "source": [
    "What did you spell? --it wasn't `'trisaccharides'` -- unfortunately there's no `'e'`. Oh well.\n",
    "\n",
    "What if you want to take out more than one character? There's a way to do that: *Slicing*. \n",
    "\n",
    "It looks (and works) just like indexing, but we use two numbers separated by a colon; the first one is the *start*, the second one is the *stop*:"
   ]
  },
  {
   "cell_type": "code",
   "execution_count": null,
   "metadata": {},
   "outputs": [],
   "source": [
    "serious = \"This is a string about ducks.\"\n",
    "\n",
    "# slice= [start : stop]\n",
    "print(serious[10:16])"
   ]
  },
  {
   "cell_type": "markdown",
   "metadata": {},
   "source": [
    "You may notice, if you check our table up there, that I stopped at 16 (the whitespace character), and it wasn't included in my *slice*. So, the slice **does** include the *start index*, and **doesn't** include the *stop index*. \n",
    "\n",
    "Play with this a little in the cell below. I've made a string, but feel free to make your own -- you never have to use my examples!"
   ]
  },
  {
   "cell_type": "code",
   "execution_count": null,
   "metadata": {},
   "outputs": [],
   "source": [
    "play_string = \"Schoopty, doopty, doo-wah. It's the fifties, apparently!\"\n",
    "\n",
    "# add all the things!"
   ]
  },
  {
   "cell_type": "markdown",
   "metadata": {},
   "source": [
    "If you leave one of the indexes blank, the start defaults to zero, and the stop defaults to the end.  If you leave both of them blank, it just gives you the string from the start to the end:"
   ]
  },
  {
   "cell_type": "code",
   "execution_count": null,
   "metadata": {},
   "outputs": [],
   "source": [
    "string_thing = \"ahoy mateys!\"\n",
    "\n",
    "print(\"0 to 8:\", string_thing[:8])\n",
    "\n",
    "print(\"4 to the end:\", string_thing[4:])\n",
    "\n",
    "print(\"start to end:\", string_thing[:])"
   ]
  },
  {
   "cell_type": "markdown",
   "metadata": {},
   "source": [
    "Now for the fun part: Step. \n",
    "\n",
    "You can specify a *third* number after another colon, that tells Python how many characters to go in each step. The default (if left blank) is 1 -- that means Python goes 1 index at a time. If you specify a different step though, you can change that.  Remember, that makes it: `[start : stop : step]`. "
   ]
  },
  {
   "cell_type": "code",
   "execution_count": null,
   "metadata": {},
   "outputs": [],
   "source": [
    "my_string = \"whammo keblammo\"\n",
    "\n",
    "# [start : stop : step]\n",
    "print(my_string[::2])  # going by 2's -- every other character"
   ]
  },
  {
   "cell_type": "markdown",
   "metadata": {},
   "source": [
    "Yes, I spelled \"kablammo\" weirdly on purpose, so it would say `\"wam\"`, because now you should be thinking of George Michael, and `\"elmo\"`, because of <a href='https://www.youtube.com/watch?v=oPm0X7C_z2c'>this video</a>.\n",
    "\n",
    "You can use anything that resolves to a number in the index field:"
   ]
  },
  {
   "cell_type": "code",
   "execution_count": null,
   "metadata": {},
   "outputs": [],
   "source": [
    "source = \"super cool string\"\n",
    "start = 6\n",
    "length = 4\n",
    "\n",
    "# [start : stop] = [6 : 6 + 4] = [6 : 10]\n",
    "print(source[start : start + length])"
   ]
  },
  {
   "cell_type": "markdown",
   "metadata": {},
   "source": [
    "I started at the beginning of the word \"cool\" which was at index 6, and then went to index 6 + 4 (=10). "
   ]
  },
  {
   "cell_type": "markdown",
   "metadata": {},
   "source": [
    "Now, haven't had nearly enough chances to play with slices and steps, so you should. Slice up  and step through a string in the cell below:"
   ]
  },
  {
   "cell_type": "code",
   "execution_count": null,
   "metadata": {},
   "outputs": [],
   "source": [
    "a_string = \"trisaccharides. There, now you can spell it with this string.\"\n",
    "\n",
    "#slice it up and step through it however, right here!"
   ]
  },
  {
   "cell_type": "markdown",
   "metadata": {},
   "source": [
    "The last things about steps: did you try a negative step yet? \n",
    "\n",
    "Check this out:"
   ]
  },
  {
   "cell_type": "code",
   "execution_count": null,
   "metadata": {},
   "outputs": [],
   "source": [
    "sdrawkcab = '.uoy rof sdrawkcab siht etorw I'\n",
    "\n",
    "sdrawkcab[::-1]"
   ]
  },
  {
   "cell_type": "markdown",
   "metadata": {},
   "source": [
    "Now go back and play with negative step as well!!\n",
    "\n",
    "And then...."
   ]
  },
  {
   "cell_type": "markdown",
   "metadata": {},
   "source": [
    "***\n",
    "\n",
    "## Exercise time!\n",
    "\n",
    "I've got a string, but I only want one word out of it. Could you please take `'one word'` out of it?"
   ]
  },
  {
   "cell_type": "code",
   "execution_count": null,
   "metadata": {},
   "outputs": [],
   "source": [
    "stringy = \"I only want one word out of this string.\"\n",
    "\n",
    "## your code here ##"
   ]
  },
  {
   "cell_type": "markdown",
   "metadata": {},
   "source": [
    "Now, I have a string here, that'll let you spell anything.  Could you spell me a 3 letter word? ..like `'cat'`, or `'dog`', or `'arg'`? Use your imagination!"
   ]
  },
  {
   "cell_type": "code",
   "execution_count": null,
   "metadata": {},
   "outputs": [],
   "source": [
    "albet = \"abcdefghijklmnopqrstuvwxyz\"\n",
    "\n",
    "## three letter word, go! ##"
   ]
  },
  {
   "cell_type": "markdown",
   "metadata": {},
   "source": [
    "***\n",
    "\n",
    "Awesome.  Now, EVEN MORE ABOUT STRINGS.\n",
    "\n",
    "I know you're getting bored of strings, but this part is *really* an intro to object oriented programming, using strings as an example. Don't worry!"
   ]
  },
  {
   "cell_type": "markdown",
   "metadata": {},
   "source": [
    "# The String as an Object\n",
    "\n",
    "Everything in Python is an object -- *everything*. When you make a string, in the background, there's a little blueprint of what a \"string\" looks like, and every time you make one, the machinery of Python whirs into motion and churns out a string object -- whether or not we store that string in a variable, or not. They're all the same; objects.\n",
    "\n",
    "An object consists of *attributes* (variables that are inside the object) and *methods* (functions that are inside the object). Because a lot of programming deals with string manipulation and processing, strings come with rather a lot. \n",
    "\n",
    "You access the methods and attributes inside an object using *dot notation*. That means you type up the object + a dot (period) + the method or attribute. That looks like this:"
   ]
  },
  {
   "cell_type": "code",
   "execution_count": null,
   "metadata": {},
   "outputs": [],
   "source": [
    "my_string = \"exciting\"\n",
    "\n",
    "my_string.upper()"
   ]
  },
  {
   "cell_type": "markdown",
   "metadata": {},
   "source": [
    "`upper()` is a string method that changes all the characters to upper case.  I didn't need to assign that to a variable -- you can do it without them, too:"
   ]
  },
  {
   "cell_type": "code",
   "execution_count": null,
   "metadata": {},
   "outputs": [],
   "source": [
    "\"this is not lower case\".upper()"
   ]
  },
  {
   "cell_type": "markdown",
   "metadata": {},
   "source": [
    "There are a lot of string methods available -- you can see which ones are available by using the `dir()` built-in function.  `dir` is a DOS or Windows command line command that lists out all the contents of a directory -- the same as the `ls` command on a UNIX or Mac terminal. \n",
    "\n",
    "If you use `dir()` with no argument, it tells you all of the variables and functions available *globally* -- that is, all the stuff we've made, outside of any objects:"
   ]
  },
  {
   "cell_type": "code",
   "execution_count": null,
   "metadata": {},
   "outputs": [],
   "source": [
    "dir()"
   ]
  },
  {
   "cell_type": "markdown",
   "metadata": {},
   "source": [
    "Anything that starts with an underscore is a special object or function, and you can ignore those for now. You should see all of the rad variables that we've created thus far towards the bottom.\n",
    "\n",
    "If you want to see what's inside of a string, feed `dir()` a string!"
   ]
  },
  {
   "cell_type": "code",
   "execution_count": null,
   "metadata": {},
   "outputs": [],
   "source": [
    "dir(\"a string\")"
   ]
  },
  {
   "cell_type": "markdown",
   "metadata": {},
   "source": [
    "Those double-underscore methods (we call 'em \"dunder methods\", for short) are part of the Python machinery, so don't worry about them for now. Let's take a look at some of the other ones though:"
   ]
  },
  {
   "cell_type": "code",
   "execution_count": null,
   "metadata": {},
   "outputs": [],
   "source": [
    "serious = \"this is a string about ducks.\"  # Oh, THIS again. \n",
    "\n",
    "print(\"title:\", serious.title())\n",
    "print(\"capitalize:\", serious.capitalize())\n",
    "print(\"split:\", serious.split())"
   ]
  },
  {
   "cell_type": "markdown",
   "metadata": {},
   "source": [
    "There are a few of them in action -- `find()` is another good one. It returns the first index of a substring in the string:"
   ]
  },
  {
   "cell_type": "code",
   "execution_count": null,
   "metadata": {},
   "outputs": [],
   "source": [
    "serious = \"this is a string about ducks.\"\n",
    "\n",
    "print(\"s:\", serious.find(\"s\")) # the first 's', in \"This\"\n",
    "print(\"str:\", serious.find(\"str\")) # the first \"str\"\n",
    "print(\"ducks:\", serious.find(\"ducks\")) # find the ducks!"
   ]
  },
  {
   "cell_type": "markdown",
   "metadata": {},
   "source": [
    "If you want to find the *last* occurrence of something, you can use `rfind()`:"
   ]
  },
  {
   "cell_type": "code",
   "execution_count": null,
   "metadata": {},
   "outputs": [],
   "source": [
    "print(\"rfind, 's':\", serious.rfind(\"s\"))\n",
    "print(\"versus find 's':\", serious.find(\"s\"))"
   ]
  },
  {
   "cell_type": "markdown",
   "metadata": {},
   "source": [
    "If you don't know how to use a function, you should ask for some `help()`. "
   ]
  },
  {
   "cell_type": "code",
   "execution_count": null,
   "metadata": {},
   "outputs": [],
   "source": [
    "help(\"blah\".find)"
   ]
  },
  {
   "cell_type": "markdown",
   "metadata": {},
   "source": [
    "If you use `help()` with no arguments, it starts a little interactive program, where you can look up the documentation on things. If you want to quit the little program, type `quit`."
   ]
  },
  {
   "cell_type": "code",
   "execution_count": null,
   "metadata": {},
   "outputs": [],
   "source": [
    "help()"
   ]
  },
  {
   "cell_type": "markdown",
   "metadata": {},
   "source": [
    "So, we've covered kind of a lot about strings, but believe me, it'll come in handy. You should also bookmark the <a href='https://docs.python.org/3/library/index.html'>Python 3.6 library reference</a>. If you're ever unsure about something, you can look it up there."
   ]
  },
  {
   "cell_type": "markdown",
   "metadata": {},
   "source": [
    "***\n",
    "\n",
    "## Exercising is good\n",
    "\n",
    "Now that you're a string indexing, slicing, and method-using pro, I've got a job for you.\n",
    "\n",
    "I have this string that is composed of a bunch of stuff, but I don't care about most of it--- I just want to know, what is the character at index 4?"
   ]
  },
  {
   "cell_type": "code",
   "execution_count": 4,
   "metadata": {},
   "outputs": [
    {
     "data": {
      "text/plain": [
       "'u'"
      ]
     },
     "execution_count": 4,
     "metadata": {},
     "output_type": "execute_result"
    }
   ],
   "source": [
    "weird = \"\\u0023\\u0070\\u006F\\u0075\\u006E\\u0064\\u0073\\u0069\\u0067\\u006E\"\n",
    "\n",
    "## What's at index 4? ##"
   ]
  },
  {
   "cell_type": "markdown",
   "metadata": {},
   "source": [
    "That was... weird. Let's see that string again, but this time, could you slice from 6 to the end?"
   ]
  },
  {
   "cell_type": "code",
   "execution_count": 5,
   "metadata": {},
   "outputs": [
    {
     "name": "stdout",
     "output_type": "stream",
     "text": [
      "sign\n"
     ]
    }
   ],
   "source": [
    "weird = \"\\u0023\\u0070\\u006F\\u0075\\u006E\\u0064\\u0073\\u0069\\u0067\\u006E\"\n",
    "\n"
   ]
  },
  {
   "cell_type": "markdown",
   "metadata": {},
   "source": [
    "Yo.... what's happening with this string? Tell you what, could you use `dir()` on a string to find a method to tell me if it **is** a **printable** string? Maybe if you don't know how to use the method, you could use `help()` to see how it works.  This `weird` string is really weird. "
   ]
  },
  {
   "cell_type": "code",
   "execution_count": 9,
   "metadata": {},
   "outputs": [],
   "source": [
    "weird = \"\\u0023\\u0070\\u006F\\u0075\\u006E\\u0064\\u0073\\u0069\\u0067\\u006E\"\n",
    "\n",
    "### maybe use dir(weird)? I mean, it's a string, so that should work. ###\n",
    "## then we need to find a method to find if it _IS PRINTABLE_. Is my capitalization a hint??##"
   ]
  },
  {
   "cell_type": "markdown",
   "metadata": {},
   "source": [
    "...\n",
    "\n",
    "go ahead and print it and let's see what happens."
   ]
  },
  {
   "cell_type": "code",
   "execution_count": null,
   "metadata": {},
   "outputs": [],
   "source": [
    "print(weird)"
   ]
  },
  {
   "cell_type": "markdown",
   "metadata": {},
   "source": [
    "Oh, look -- it's my favorite Twitter hashtag, hashtag poundsign. I also like hashtag <a href='https://en.wiktionary.org/wiki/octothorpe'>octothorpe</a> as well. \n",
    "\n",
    "It turns out, our string was in <a href='https://en.wikipedia.org/wiki/Unicode'>Unicode</a>. Unicode \"codes\" can be used in place of characters -- also, Python strings are encoded in UTF-8 by default."
   ]
  },
  {
   "cell_type": "markdown",
   "metadata": {},
   "source": [
    "Also, that `isprintable()` method you used -- that returned... our next basic type of data!!!  Yay!!\n",
    "\n",
    "***\n",
    "\n",
    "## Booleans\n",
    "\n",
    "<img src='https://upload.wikimedia.org/wikipedia/commons/thumb/c/ce/George_Boole_color.jpg/220px-George_Boole_color.jpg' align='right'>\n",
    "Ok, so we've talked a little about `int`s, `float`s, and `str`ings. Are there any other types of data? \n",
    "\n",
    "Cue the *boolean*. \n",
    "\n",
    "Booleans are eponymously named after <a href='https://en.wikipedia.org/wiki/George_Boole'>George Boole</a>, a mathematician from the 1800s who was TOTALLY OBSESSED WITH ONES AND ZEROS.\n",
    "\n",
    "Maybe he wasn't *really* obsessed with them, but a boolean is basically equivalent to single, binary digit (a binary digit can be only a one or a zero).\n",
    "\n",
    "In Python, our booleans can take one of two values: True or False.\n",
    "\n",
    "What's that look like?"
   ]
  },
  {
   "cell_type": "code",
   "execution_count": null,
   "metadata": {},
   "outputs": [],
   "source": [
    "True"
   ]
  },
  {
   "cell_type": "code",
   "execution_count": null,
   "metadata": {},
   "outputs": [],
   "source": [
    "type(True)"
   ]
  },
  {
   "cell_type": "markdown",
   "metadata": {},
   "source": [
    "Oh, neat, another *builtin* that lets us check the type of something."
   ]
  },
  {
   "cell_type": "code",
   "execution_count": null,
   "metadata": {},
   "outputs": [],
   "source": [
    "type(1)"
   ]
  },
  {
   "cell_type": "code",
   "execution_count": null,
   "metadata": {},
   "outputs": [],
   "source": [
    "type(\"womp womp\")"
   ]
  },
  {
   "cell_type": "code",
   "execution_count": null,
   "metadata": {},
   "outputs": [],
   "source": [
    "type(1.2345)"
   ]
  },
  {
   "cell_type": "markdown",
   "metadata": {},
   "source": [
    "Neat!\n",
    "\n",
    "So back to these boolean things -- what good are they? \n",
    "\n",
    "## Make comparisons!\n",
    "\n",
    "Is thing 1 the same as thing 2? Is thing 1 bigger than thing 2?\n",
    "\n",
    "When we use *comparison operators* to compare things, they'll return a boolean -- a True or False:"
   ]
  },
  {
   "cell_type": "code",
   "execution_count": null,
   "metadata": {},
   "outputs": [],
   "source": [
    "1 > 2"
   ]
  },
  {
   "cell_type": "markdown",
   "metadata": {},
   "source": [
    "**Us:** \"1 is greater than 2?\"\n",
    "\n",
    "**Python:** \"False\"\n",
    "\n",
    "**Us:** \"Pffff, we totally knew that, we were just seeing if YOU knew that.\"\n",
    "\n",
    "Here are all the comparison operators -- you should play with them in the next cell:\n",
    "\n",
    "<table>\n",
    "    <tr>\n",
    "        <td>Operator</td>\n",
    "        <td>Means...</td>\n",
    "        <td>Example</td>\n",
    "        <td>Result</td>\n",
    "    </tr>\n",
    "    <tr>\n",
    "        <td>></td>\n",
    "        <td>greater than!</td>\n",
    "        <td>`2 > 1`</td>\n",
    "        <td>`True`</td>\n",
    "    </tr>\n",
    "    <tr>\n",
    "        <td><</td>\n",
    "        <td>less than!</td>\n",
    "        <td>`2 < 1`</td>\n",
    "        <td>`False`</td>\n",
    "    </tr>\n",
    "    <tr>\n",
    "        <td>==</td>\n",
    "        <td>equal to!</td>\n",
    "        <td>`2 == 2`</td>\n",
    "        <td>`True`</td>\n",
    "    </tr>\n",
    "    <tr>\n",
    "        <td>>=</td>\n",
    "        <td>greater or equal to!</td>\n",
    "        <td>`3 >= 3`</td>\n",
    "        <td>`True`</td>\n",
    "    </tr>\n",
    "    <tr>\n",
    "        <td><=</td>\n",
    "        <td>less or equal to!</td>\n",
    "        <td>`4 <= 3`</td>\n",
    "        <td>`False`</td>\n",
    "    </tr>\n",
    "    <tr>\n",
    "        <td>!</td>\n",
    "        <td>not!</td>\n",
    "        <td>`2 != 1`</td>\n",
    "        <td>`True`</td>\n",
    "    </tr>\n",
    "</table>\n",
    "\n",
    "<div class='alert alert-block alert-danger'> Look at that test for equivalency -- it's TWO equals signs. TWO of them. \"equals equals\". Dos. Deux. Zwei. Don't put ONE equals sign; that's the *assignment* operator, for making variables, right?</div>"
   ]
  },
  {
   "cell_type": "code",
   "execution_count": null,
   "metadata": {
    "collapsed": true
   },
   "outputs": [],
   "source": []
  },
  {
   "cell_type": "markdown",
   "metadata": {},
   "source": [
    "Did you find some equivalencies? \n",
    "\n",
    "Here are some odd ones:"
   ]
  },
  {
   "cell_type": "code",
   "execution_count": null,
   "metadata": {},
   "outputs": [],
   "source": [
    "True == 1"
   ]
  },
  {
   "cell_type": "code",
   "execution_count": null,
   "metadata": {},
   "outputs": [],
   "source": [
    "False == 0"
   ]
  },
  {
   "cell_type": "markdown",
   "metadata": {},
   "source": [
    "That's something that Python does -- that True is the same thing as a 1, and that False is the same thing as a zero. "
   ]
  },
  {
   "cell_type": "markdown",
   "metadata": {},
   "source": [
    "You can also string together multiple comparisons in a row:"
   ]
  },
  {
   "cell_type": "code",
   "execution_count": null,
   "metadata": {},
   "outputs": [],
   "source": [
    "3 > 2 > 1 < 10 == 10"
   ]
  },
  {
   "cell_type": "markdown",
   "metadata": {},
   "source": [
    "There, we said \"3 is greater than 2, which is greater than 1, which is less than 10, which equals 10\"\n",
    "\n",
    "or:\n",
    "> 3 is greater than 2, and  \n",
    "> 2 is greater than 1, and  \n",
    "> 1 is less than 10, and  \n",
    "> 10 is equal to 10\n",
    "\n",
    "Try it out for yourself:"
   ]
  },
  {
   "cell_type": "code",
   "execution_count": null,
   "metadata": {},
   "outputs": [],
   "source": []
  },
  {
   "cell_type": "markdown",
   "metadata": {},
   "source": [
    "***\n",
    "\n",
    "Awesome!  Now let's talk about *flow control*. \n",
    "\n",
    "# Flow Control\n",
    "\n",
    "Your programs have been running from top to bottom in one long line. What if you want to check something, and if it's true, do one thing, and if it's false, do another thing?  In Python, (and most other languages) that's accomplished with *if/else* statements. \n",
    "\n",
    "An `if` statement is constructed with the *keyword* `if`, followed by a condition, followed by a colon, then an indented block of code that happens if that condition is met. Let's see that in action:"
   ]
  },
  {
   "cell_type": "code",
   "execution_count": null,
   "metadata": {},
   "outputs": [],
   "source": [
    "my_name = \"Luke\"\n",
    "\n",
    "if my_name == \"Luke\":      # this condition is True\n",
    "    print(\"Luke, I am your father.\")  # So this block (everything that's indented under the if) is going to execute\n",
    "    print(\"You've probably never heard that one before\")\n",
    "    print(\"I'm really funny, see?\")\n",
    "    print(\"...\")\n",
    "    print(\"Yep.\")"
   ]
  },
  {
   "cell_type": "markdown",
   "metadata": {},
   "source": [
    "What happens if it's false?"
   ]
  },
  {
   "cell_type": "code",
   "execution_count": null,
   "metadata": {},
   "outputs": [],
   "source": [
    "my_name = \"Jim\"\n",
    "\n",
    "if my_name == \"Luke\":  # This will resolve to false\n",
    "    print(\"I'm not going to say this.\") # so none of this will execute\n",
    "    print(\"This isn't going to happen\")\n",
    "    print(\"yeeeeeep. No printing happening this time.\")"
   ]
  },
  {
   "cell_type": "markdown",
   "metadata": {},
   "source": [
    "That block of code that's indented under the `if` statement is all indented *4 spaces*. If you're using an IDE, like Jupyter, it should automatically insert 4 spaces if you hit the `Tab` key.\n",
    "\n",
    "If you want to check for another condition, too, you can use `elif`, short for `else if`. `elif` is **not** indented under the `if` block (or else it'll be part of the code that only executes if the `if` condition is `True`. The `elif` statement is constructed just like the `if` statement. Check:"
   ]
  },
  {
   "cell_type": "code",
   "execution_count": null,
   "metadata": {},
   "outputs": [],
   "source": [
    "my_name = \"Jim\"\n",
    "\n",
    "if my_name == \"Luke\":              # This condition is false\n",
    "    print(\"OMG YOUR NAME IS LUKE\") # So this block doesn't execute\n",
    "\n",
    "elif my_name == \"Jim\":             # This condition is true\n",
    "    print(\"Some call me.... Jim?\") # So its block _does_ execute\n",
    "    print(\"Oh no, wait, that joke is for people named Tim.\")\n",
    "    print(\"Ugh, I messed that one up.\")"
   ]
  },
  {
   "cell_type": "markdown",
   "metadata": {},
   "source": [
    "Python checks the `if` block, it's a no, so it goes to the `elif` block; it's a yes, so it executes the code in the `elif` block. \n",
    "\n",
    "The final part of flow control is the `else` block, which is a catchall for any other condition -- you do **not** need to include an `elif` or an `else` in your code; they're just there in case you need them.  `else` is constructed without a condition -- since it's a catchall -- otherwise it's the same.  Check it:"
   ]
  },
  {
   "cell_type": "code",
   "execution_count": null,
   "metadata": {},
   "outputs": [],
   "source": [
    "my_name = \"Andy\"\n",
    "\n",
    "if my_name == \"Luke\":         # evaluates to false\n",
    "    print(\"Luuuuuuuuuuuuuke\") # doesn't run\n",
    "\n",
    "elif my_name == \"Jim\":        # evaluates to false\n",
    "    print(\"Jimbo!\")           # doesn't run\n",
    "    print(\"Jimmah!\")\n",
    "    print(\"I should have used that one up there!\")\n",
    "    \n",
    "else:      # Nothing else was true, so in that case....\n",
    "    print(my_name, \"...what an interesting name.\")  # run this block"
   ]
  },
  {
   "cell_type": "markdown",
   "metadata": {},
   "source": [
    "OK, now you need to play with control flow in the cell below! -- remember it's `if` + [condition] + a colon, and then a block of code indented 4 spaces, that executes if the [condition] is True."
   ]
  },
  {
   "cell_type": "code",
   "execution_count": null,
   "metadata": {},
   "outputs": [],
   "source": []
  },
  {
   "cell_type": "markdown",
   "metadata": {},
   "source": [
    "Did you make something happen? You could put something like `if True:`, but what's the point in that? That block will always execute. \n",
    "\n",
    "There are a couple more keywords that are awesome to know about. Check this cell here:"
   ]
  },
  {
   "cell_type": "code",
   "execution_count": null,
   "metadata": {},
   "outputs": [],
   "source": [
    "keep_going = False\n",
    "\n",
    "if not keep_going:  # You can use 'not' to negate something; (not False) == True.\n",
    "    print(\"Good game, thanks for playing!\")"
   ]
  },
  {
   "cell_type": "markdown",
   "metadata": {},
   "source": [
    "Another thing, that's purely stylistic. If you are storing a boolean in a variable, you don't have to perform a conditional check on that variable. How's that?? It's easier to show you:"
   ]
  },
  {
   "cell_type": "code",
   "execution_count": null,
   "metadata": {},
   "outputs": [],
   "source": [
    "keep_going = True\n",
    "\n",
    "if keep_going:  # Python sees the \"True\" (or the False)\n",
    "    print(\"This worked.\")\n",
    "    \n",
    "if keep_going == True:  # This is saying \"if True == True\"\n",
    "    print(\"This also works, but people will think you're a n00b if you do this.\")"
   ]
  },
  {
   "cell_type": "markdown",
   "metadata": {},
   "source": [
    "Notice I didn't use `elif` there, I used two `if` statements. That's because if one part of an `if - elif - else` chain hits, the other parts are skipped.  If you want to make multiple checks and have multiple things happen, use multiple `if`s.\n",
    "\n",
    "Okay, the last new keyword is `in`. It's a super fast way to check if something is ...in... something else. It's pretty straightforward. You can check a string to see if it contains a *sub-string*; that is, you can check to see if a certain sequence of characters is in a string. \n",
    "\n",
    "It's very useful with `if` statements.  Let's have a very serious example of it in action:"
   ]
  },
  {
   "cell_type": "code",
   "execution_count": null,
   "metadata": {},
   "outputs": [],
   "source": [
    "serious = \"This is a string about ducks.\"\n",
    "\n",
    "print(\"Are ducks in 'serious'?\",\"ducks\" in serious)  # evaluates to a boolean True\n",
    "\n",
    "if \"about\" in serious:     # THis evaluates to True\n",
    "    print(\"This is definitely a descriptive sentence we're dealing with, here.\")\n",
    "    \n",
    "if \"ring ab\" in serious:   # \"...stRING ABout...\"\n",
    "    print(\"This is getting weird.\")"
   ]
  },
  {
   "cell_type": "markdown",
   "metadata": {},
   "source": [
    "Again, notice the two `if` statements. \n",
    "\n",
    "Good deal. Now, let's have an exercise!"
   ]
  },
  {
   "cell_type": "markdown",
   "metadata": {},
   "source": [
    "***\n",
    "\n",
    "## It's Exercisin' Time!\n",
    "\n",
    "Ok.  I went to a really shady restaurant, and I'm concerned about the meats they gave me; I think some of them are not chicken. Could you check if any of them has the string \"chicken\" in it?"
   ]
  },
  {
   "cell_type": "code",
   "execution_count": null,
   "metadata": {},
   "outputs": [],
   "source": [
    "chicken = \"this actually cat.\"\n",
    "ham = \"this is chicken.\"\n",
    "beef = \"this is actually chicken, too.\"\n",
    "salmon = \"This is definitely... actually I have no idea what this is.\"\n",
    "\n",
    "## Your code here ##"
   ]
  },
  {
   "cell_type": "markdown",
   "metadata": {},
   "source": [
    "Great! now I know not to eat any of that stuff. I'm not going back to that place. "
   ]
  }
 ],
 "metadata": {
  "kernelspec": {
   "display_name": "Python 3",
   "language": "python",
   "name": "python3"
  },
  "language_info": {
   "codemirror_mode": {
    "name": "ipython",
    "version": 3
   },
   "file_extension": ".py",
   "mimetype": "text/x-python",
   "name": "python",
   "nbconvert_exporter": "python",
   "pygments_lexer": "ipython3",
   "version": "3.6.4"
  }
 },
 "nbformat": 4,
 "nbformat_minor": 2
}
